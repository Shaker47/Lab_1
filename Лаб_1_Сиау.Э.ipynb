{
 "cells": [
  {
   "cell_type": "code",
   "execution_count": 3,
   "id": "601a2bbf-a6ef-4579-98e1-acb667c9dc4b",
   "metadata": {},
   "outputs": [
    {
     "name": "stdout",
     "output_type": "stream",
     "text": [
      "Hello, World!\n"
     ]
    }
   ],
   "source": [
    "print(\"Hello, World!\")"
   ]
  },
  {
   "cell_type": "code",
   "execution_count": 73,
   "id": "cb80cbec-cd8d-4869-9ed0-1c5dcaed4e94",
   "metadata": {},
   "outputs": [
    {
     "name": "stdout",
     "output_type": "stream",
     "text": [
      "Отсортированный массив: [5, 6, 11, 12, 13]\n"
     ]
    }
   ],
   "source": [
    "def insertion_sort(arr):\n",
    "     for i in range(1, len(arr)):\n",
    "         key = arr[i]\n",
    "         j = i - 1\n",
    "         while j >= 0 and key < arr[j]:\n",
    "             arr[j + 1] = arr[j]\n",
    "             j -= 1\n",
    "         arr[j + 1] = key\n",
    "\n",
    "             \n",
    "#Пример исползования\n",
    "arr = [12, 11, 13, 5, 6]\n",
    "insertion_sort(arr)\n",
    "print(\"Отсортированный массив:\", arr)"
   ]
  },
  {
   "cell_type": "code",
   "execution_count": 69,
   "id": "bc03ac1b-d694-468c-a704-05ab368bad93",
   "metadata": {},
   "outputs": [
    {
     "name": "stdout",
     "output_type": "stream",
     "text": [
      "Отсортированный массив: [11, 12, 22, 25, 34, 64, 90]\n"
     ]
    }
   ],
   "source": [
    "def bubble_sort(arr):\n",
    "    n = len(arr)\n",
    "\n",
    "    for i in range(n):\n",
    "         for j in range(0, n-i-1):\n",
    "             if arr[j] > arr[j+1]:\n",
    "                 arr[j], arr[j+1]= arr[j+1], arr[j]\n",
    "\n",
    "    return arr\n",
    "\n",
    "#Пример использования\n",
    "arr = [64, 34, 25, 12, 22, 11, 90]\n",
    "sorted_arr = bubble_sort(arr)\n",
    "print(\"Отсортированный массив:\", sorted_arr)\n",
    "                 \n",
    "   "
   ]
  },
  {
   "cell_type": "code",
   "execution_count": 80,
   "id": "6735c987-9c2c-44b4-9179-30cd0c0675ba",
   "metadata": {},
   "outputs": [
    {
     "name": "stdout",
     "output_type": "stream",
     "text": [
      "Отсортированный массив: [11, 12, 22, 25, 64]\n"
     ]
    }
   ],
   "source": [
    "def selection_sort(arr):\n",
    "    n = len(arr)\n",
    "    for i in range(n):\n",
    "        min_index = i\n",
    "        for j in range(i+1, n):\n",
    "            if arr[j] < arr[min_index]:\n",
    "                min_index = j \n",
    "        arr[i], arr[min_index] = arr[min_index], arr[i]\n",
    "\n",
    "# Пример использования\n",
    "arr = [64, 25, 12, 22, 11]\n",
    "selection_sort(arr)\n",
    "print(\"Отсортированный массив:\", arr)"
   ]
  },
  {
   "cell_type": "code",
   "execution_count": 8,
   "id": "51ce2375-23ea-43e7-bda8-95ee3b487376",
   "metadata": {},
   "outputs": [
    {
     "name": "stdout",
     "output_type": "stream",
     "text": [
      "Отсортированный массив: [2, 3, 12, 34, 54]\n"
     ]
    }
   ],
   "source": [
    "def shell_sort(arr):\n",
    "    n = len(arr)\n",
    "    gap = n // 2\n",
    "    while gap > 0:\n",
    "        for i in range(gap, n):\n",
    "            temp = arr[i]\n",
    "            j = i\n",
    "            while j >= gap and arr[j - \n",
    "gap] > temp:\n",
    "                 arr[j] = arr[j - gap]\n",
    "                 j -= gap\n",
    "            arr[j] = temp\n",
    "        gap //=2\n",
    "\n",
    "#Пример исползования\n",
    "arr = [12, 34, 54, 2, 3]\n",
    "shell_sort(arr)\n",
    "print(\"Отсортированный массив:\", arr)\n",
    "                \n",
    "     "
   ]
  },
  {
   "cell_type": "code",
   "execution_count": 12,
   "id": "26643107-3607-407c-b29c-1f9dd15f5e46",
   "metadata": {},
   "outputs": [
    {
     "name": "stdout",
     "output_type": "stream",
     "text": [
      "[1, 1, 2, 3, 6, 8, 10]\n"
     ]
    }
   ],
   "source": [
    "def quick_sort(arr):\n",
    "    if len(arr) <=1:\n",
    "        return arr\n",
    "    else:\n",
    "        pivot = arr[0]\n",
    "        less = [x for x in arr[1:]\n",
    "if x <= pivot]\n",
    "        greater = [x for x in arr[1:\n",
    "] if x > pivot]\n",
    "        return quick_sort(less) + [\n",
    "pivot] + quick_sort(greater)\n",
    "        \n",
    "#Пример использования\n",
    "arr = [3, 6, 8, 10, 1, 2, 1]\n",
    "sorted_arr = quick_sort(arr)\n",
    "print(sorted_arr)"
   ]
  },
  {
   "cell_type": "code",
   "execution_count": 24,
   "id": "774f16e4-dbed-4d29-a662-d00d1466ec88",
   "metadata": {},
   "outputs": [
    {
     "name": "stdout",
     "output_type": "stream",
     "text": [
      "None\n"
     ]
    }
   ],
   "source": [
    "def tournament_sort(arr):\n",
    "    def heapify(arr, n, i):\n",
    "        largest = i\n",
    "        l = 2 * i + 1\n",
    "        r = 2 * i + 2\n",
    "        if l < n and arr[i] < arr[l]:\n",
    "            largest = l\n",
    "        if r < n and arr[largest] < arr[r]:\n",
    "            largest = r\n",
    "        if largest != i:\n",
    "            arr[i], arr[largest] = arr[largest], arr[i]\n",
    "            heapify(arr, n, largest)\n",
    "\n",
    "def build_max_heap(arr):\n",
    "    n = len(arr)\n",
    "    for i in range(n//2 - 1, -1, -1):\n",
    "        heapify(arr, n, i)\n",
    "\n",
    "def tournament(arr):\n",
    "    n = len(arr)\n",
    "    build_max_heap(arr)\n",
    "    for i in range(n-1, 0, -1):\n",
    "        arr[0], arr[i] = arr[i], arr[0]\n",
    "        heapify(arr, i, 0)\n",
    "        \n",
    "    return arr\n",
    "\n",
    "# Пример использования\n",
    "arr = [3, 6, 8, 10, 1, 2, 1]\n",
    "sorted_arr = tournament_sort(arr)\n",
    "print(sorted_arr)\n"
   ]
  },
  {
   "cell_type": "code",
   "execution_count": 25,
   "id": "c6f49462-e002-41f8-8db8-ce473988870a",
   "metadata": {},
   "outputs": [
    {
     "name": "stdout",
     "output_type": "stream",
     "text": [
      "[101, 71, 85, 94]\n",
      "[51, 159, 98, 0]\n",
      "[117, 65, 90, 103]\n",
      "[0, 145, 52, 45]\n"
     ]
    }
   ],
   "source": [
    "import random\n",
    "\n",
    "def random_matrix(m=3, n=3, min_limit=1,\n",
    "max_limit=10):\n",
    "    return [[random.randint(min_limit,\n",
    "max_limit) for _ in range(n)] for _ in\n",
    "range(m)]\n",
    "\n",
    "#Пример использования\n",
    "matrix = random_matrix(4, 4, 0, 200)\n",
    "for row in matrix:\n",
    "    print(row)"
   ]
  },
  {
   "cell_type": "code",
   "execution_count": null,
   "id": "0b82f5ec-ac38-4437-b5ec-03d3be03fe9a",
   "metadata": {},
   "outputs": [],
   "source": []
  }
 ],
 "metadata": {
  "kernelspec": {
   "display_name": "Python 3 (ipykernel)",
   "language": "python",
   "name": "python3"
  },
  "language_info": {
   "codemirror_mode": {
    "name": "ipython",
    "version": 3
   },
   "file_extension": ".py",
   "mimetype": "text/x-python",
   "name": "python",
   "nbconvert_exporter": "python",
   "pygments_lexer": "ipython3",
   "version": "3.11.7"
  }
 },
 "nbformat": 4,
 "nbformat_minor": 5
}
